{
 "cells": [
  {
   "cell_type": "markdown",
   "id": "ffd67a41",
   "metadata": {},
   "source": [
    "# JSONL dosyasını beklenen formata çevir"
   ]
  },
  {
   "cell_type": "code",
   "execution_count": 1,
   "id": "6f884e05",
   "metadata": {},
   "outputs": [],
   "source": [
    "import json\n",
    "\n",
    "input_file = \"../data/raw/dataset.jsonl\"\n",
    "output_file = \"../data/processed/dataset_formatted.jsonl\"\n",
    "\n",
    "with open(input_file, \"r\", encoding=\"utf-8\") as infile, open(output_file, \"w\", encoding=\"utf-8\") as outfile:\n",
    "    for line in infile:\n",
    "        data = json.loads(line)\n",
    "        formatted = {\n",
    "            \"text\": data[\"text\"],\n",
    "            \"label\": data[\"sub_tag\"]\n",
    "        }\n",
    "        outfile.write(json.dumps(formatted, ensure_ascii=False) + \"\\n\")\n"
   ]
  },
  {
   "cell_type": "markdown",
   "id": "9a3dcefb",
   "metadata": {},
   "source": [
    "# PDFs klasörü içindeki pdflerin metnini çıkart"
   ]
  },
  {
   "cell_type": "code",
   "execution_count": 2,
   "id": "31425eb8",
   "metadata": {},
   "outputs": [
    {
     "name": "stdout",
     "output_type": "stream",
     "text": [
      "Collecting PyMuPDFNote: you may need to restart the kernel to use updated packages.\n",
      "\n",
      "  Downloading pymupdf-1.26.4-cp39-abi3-win_amd64.whl (18.7 MB)\n",
      "     ---------------------------------------- 0.0/18.7 MB ? eta -:--:--\n",
      "     --------------------------------------- 0.0/18.7 MB 640.0 kB/s eta 0:00:30\n",
      "     --------------------------------------- 0.1/18.7 MB 656.4 kB/s eta 0:00:29\n",
      "     --------------------------------------- 0.1/18.7 MB 837.8 kB/s eta 0:00:23\n",
      "      --------------------------------------- 0.2/18.7 MB 1.4 MB/s eta 0:00:13\n",
      "     - -------------------------------------- 0.5/18.7 MB 2.3 MB/s eta 0:00:09\n",
      "     - -------------------------------------- 0.5/18.7 MB 2.3 MB/s eta 0:00:09\n",
      "     - -------------------------------------- 0.9/18.7 MB 3.2 MB/s eta 0:00:06\n",
      "     -- ------------------------------------- 1.3/18.7 MB 3.8 MB/s eta 0:00:05\n",
      "     --- ------------------------------------ 1.6/18.7 MB 4.0 MB/s eta 0:00:05\n",
      "     ---- ----------------------------------- 1.9/18.7 MB 4.4 MB/s eta 0:00:04\n",
      "     ---- ----------------------------------- 2.3/18.7 MB 4.6 MB/s eta 0:00:04\n",
      "     ----- ---------------------------------- 2.6/18.7 MB 4.9 MB/s eta 0:00:04\n",
      "     ------ --------------------------------- 2.9/18.7 MB 5.0 MB/s eta 0:00:04\n",
      "     ------ --------------------------------- 3.0/18.7 MB 5.0 MB/s eta 0:00:04\n",
      "     ------ --------------------------------- 3.0/18.7 MB 5.0 MB/s eta 0:00:04\n",
      "     ------- -------------------------------- 3.3/18.7 MB 4.6 MB/s eta 0:00:04\n",
      "     ------- -------------------------------- 3.4/18.7 MB 4.4 MB/s eta 0:00:04\n",
      "     ------- -------------------------------- 3.5/18.7 MB 4.3 MB/s eta 0:00:04\n",
      "     ------- -------------------------------- 3.7/18.7 MB 4.3 MB/s eta 0:00:04\n",
      "     -------- ------------------------------- 3.8/18.7 MB 4.2 MB/s eta 0:00:04\n",
      "     -------- ------------------------------- 3.9/18.7 MB 4.1 MB/s eta 0:00:04\n",
      "     -------- ------------------------------- 4.0/18.7 MB 3.9 MB/s eta 0:00:04\n",
      "     --------- ------------------------------ 4.2/18.7 MB 4.0 MB/s eta 0:00:04\n",
      "     --------- ------------------------------ 4.4/18.7 MB 4.0 MB/s eta 0:00:04\n",
      "     --------- ------------------------------ 4.5/18.7 MB 3.9 MB/s eta 0:00:04\n",
      "     --------- ------------------------------ 4.6/18.7 MB 3.9 MB/s eta 0:00:04\n",
      "     ---------- ----------------------------- 4.7/18.7 MB 3.8 MB/s eta 0:00:04\n",
      "     ---------- ----------------------------- 4.9/18.7 MB 3.8 MB/s eta 0:00:04\n",
      "     ---------- ----------------------------- 5.0/18.7 MB 3.7 MB/s eta 0:00:04\n",
      "     ---------- ----------------------------- 5.1/18.7 MB 3.7 MB/s eta 0:00:04\n",
      "     ----------- ---------------------------- 5.3/18.7 MB 3.7 MB/s eta 0:00:04\n",
      "     ----------- ---------------------------- 5.3/18.7 MB 3.6 MB/s eta 0:00:04\n",
      "     ----------- ---------------------------- 5.5/18.7 MB 3.6 MB/s eta 0:00:04\n",
      "     ----------- ---------------------------- 5.6/18.7 MB 3.6 MB/s eta 0:00:04\n",
      "     ------------ --------------------------- 5.8/18.7 MB 3.6 MB/s eta 0:00:04\n",
      "     ------------ --------------------------- 5.9/18.7 MB 3.5 MB/s eta 0:00:04\n",
      "     ------------ --------------------------- 6.0/18.7 MB 3.5 MB/s eta 0:00:04\n",
      "     ------------- -------------------------- 6.1/18.7 MB 3.5 MB/s eta 0:00:04\n",
      "     ------------- -------------------------- 6.3/18.7 MB 3.5 MB/s eta 0:00:04\n",
      "     ------------- -------------------------- 6.4/18.7 MB 3.5 MB/s eta 0:00:04\n",
      "     ------------- -------------------------- 6.5/18.7 MB 3.4 MB/s eta 0:00:04\n",
      "     ------------- -------------------------- 6.5/18.7 MB 3.4 MB/s eta 0:00:04\n",
      "     -------------- ------------------------- 6.7/18.7 MB 3.4 MB/s eta 0:00:04\n",
      "     -------------- ------------------------- 6.8/18.7 MB 3.3 MB/s eta 0:00:04\n",
      "     -------------- ------------------------- 6.9/18.7 MB 3.3 MB/s eta 0:00:04\n",
      "     -------------- ------------------------- 7.0/18.7 MB 3.3 MB/s eta 0:00:04\n",
      "     --------------- ------------------------ 7.1/18.7 MB 3.3 MB/s eta 0:00:04\n",
      "     --------------- ------------------------ 7.2/18.7 MB 3.2 MB/s eta 0:00:04\n",
      "     --------------- ------------------------ 7.3/18.7 MB 3.2 MB/s eta 0:00:04\n",
      "     --------------- ------------------------ 7.3/18.7 MB 3.2 MB/s eta 0:00:04\n",
      "     --------------- ------------------------ 7.5/18.7 MB 3.2 MB/s eta 0:00:04\n",
      "     ---------------- ----------------------- 7.5/18.7 MB 3.1 MB/s eta 0:00:04\n",
      "     ---------------- ----------------------- 7.6/18.7 MB 3.1 MB/s eta 0:00:04\n",
      "     ---------------- ----------------------- 7.7/18.7 MB 3.1 MB/s eta 0:00:04\n",
      "     ---------------- ----------------------- 7.7/18.7 MB 3.1 MB/s eta 0:00:04\n",
      "     ---------------- ----------------------- 7.8/18.7 MB 3.0 MB/s eta 0:00:04\n",
      "     ---------------- ----------------------- 7.9/18.7 MB 3.0 MB/s eta 0:00:04\n",
      "     ----------------- ---------------------- 8.0/18.7 MB 3.0 MB/s eta 0:00:04\n",
      "     ----------------- ---------------------- 8.0/18.7 MB 2.9 MB/s eta 0:00:04\n",
      "     ----------------- ---------------------- 8.1/18.7 MB 2.9 MB/s eta 0:00:04\n",
      "     ----------------- ---------------------- 8.2/18.7 MB 2.9 MB/s eta 0:00:04\n",
      "     ----------------- ---------------------- 8.3/18.7 MB 2.9 MB/s eta 0:00:04\n",
      "     ----------------- ---------------------- 8.3/18.7 MB 2.9 MB/s eta 0:00:04\n",
      "     ----------------- ---------------------- 8.4/18.7 MB 2.9 MB/s eta 0:00:04\n",
      "     ------------------ --------------------- 8.5/18.7 MB 2.8 MB/s eta 0:00:04\n",
      "     ------------------ --------------------- 8.6/18.7 MB 2.8 MB/s eta 0:00:04\n",
      "     ------------------ --------------------- 8.7/18.7 MB 2.8 MB/s eta 0:00:04\n",
      "     ------------------ --------------------- 8.7/18.7 MB 2.8 MB/s eta 0:00:04\n",
      "     ------------------ --------------------- 8.8/18.7 MB 2.7 MB/s eta 0:00:04\n",
      "     ------------------ --------------------- 8.9/18.7 MB 2.7 MB/s eta 0:00:04\n",
      "     ------------------- -------------------- 9.0/18.7 MB 2.7 MB/s eta 0:00:04\n",
      "     ------------------- -------------------- 9.1/18.7 MB 2.7 MB/s eta 0:00:04\n",
      "     ------------------- -------------------- 9.1/18.7 MB 2.7 MB/s eta 0:00:04\n",
      "     ------------------- -------------------- 9.2/18.7 MB 2.7 MB/s eta 0:00:04\n",
      "     ------------------- -------------------- 9.3/18.7 MB 2.7 MB/s eta 0:00:04\n",
      "     -------------------- ------------------- 9.4/18.7 MB 2.7 MB/s eta 0:00:04\n",
      "     -------------------- ------------------- 9.5/18.7 MB 2.7 MB/s eta 0:00:04\n",
      "     -------------------- ------------------- 9.6/18.7 MB 2.6 MB/s eta 0:00:04\n",
      "     -------------------- ------------------- 9.6/18.7 MB 2.6 MB/s eta 0:00:04\n",
      "     -------------------- ------------------- 9.7/18.7 MB 2.6 MB/s eta 0:00:04\n",
      "     -------------------- ------------------- 9.8/18.7 MB 2.6 MB/s eta 0:00:04\n",
      "     -------------------- ------------------- 9.8/18.7 MB 2.6 MB/s eta 0:00:04\n",
      "     -------------------- ------------------- 9.8/18.7 MB 2.6 MB/s eta 0:00:04\n",
      "     -------------------- ------------------- 9.8/18.7 MB 2.5 MB/s eta 0:00:04\n",
      "     -------------------- ------------------- 9.8/18.7 MB 2.5 MB/s eta 0:00:04\n",
      "     --------------------- ------------------ 9.9/18.7 MB 2.5 MB/s eta 0:00:04\n",
      "     --------------------- ------------------ 9.9/18.7 MB 2.5 MB/s eta 0:00:04\n",
      "     --------------------- ------------------ 9.9/18.7 MB 2.5 MB/s eta 0:00:04\n",
      "     --------------------- ------------------ 10.0/18.7 MB 2.4 MB/s eta 0:00:04\n",
      "     --------------------- ------------------ 10.0/18.7 MB 2.4 MB/s eta 0:00:04\n",
      "     --------------------- ------------------ 10.0/18.7 MB 2.4 MB/s eta 0:00:04\n",
      "     --------------------- ------------------ 10.0/18.7 MB 2.4 MB/s eta 0:00:04\n",
      "     --------------------- ------------------ 10.0/18.7 MB 2.4 MB/s eta 0:00:04\n",
      "     --------------------- ------------------ 10.1/18.7 MB 2.3 MB/s eta 0:00:04\n",
      "     --------------------- ------------------ 10.1/18.7 MB 2.3 MB/s eta 0:00:04\n",
      "     --------------------- ------------------ 10.1/18.7 MB 2.3 MB/s eta 0:00:04\n",
      "     --------------------- ------------------ 10.1/18.7 MB 2.3 MB/s eta 0:00:04\n",
      "     --------------------- ------------------ 10.1/18.7 MB 2.3 MB/s eta 0:00:04\n",
      "     --------------------- ------------------ 10.2/18.7 MB 2.2 MB/s eta 0:00:04\n",
      "     --------------------- ------------------ 10.2/18.7 MB 2.2 MB/s eta 0:00:04\n",
      "     --------------------- ------------------ 10.3/18.7 MB 2.2 MB/s eta 0:00:04\n",
      "     --------------------- ------------------ 10.3/18.7 MB 2.2 MB/s eta 0:00:04\n",
      "     ---------------------- ----------------- 10.3/18.7 MB 2.2 MB/s eta 0:00:04\n",
      "     ---------------------- ----------------- 10.3/18.7 MB 2.2 MB/s eta 0:00:04\n",
      "     ---------------------- ----------------- 10.3/18.7 MB 2.2 MB/s eta 0:00:04\n",
      "     ---------------------- ----------------- 10.4/18.7 MB 2.1 MB/s eta 0:00:04\n",
      "     ---------------------- ----------------- 10.4/18.7 MB 2.1 MB/s eta 0:00:04\n",
      "     ---------------------- ----------------- 10.4/18.7 MB 2.1 MB/s eta 0:00:04\n",
      "     ---------------------- ----------------- 10.4/18.7 MB 2.1 MB/s eta 0:00:04\n",
      "     ---------------------- ----------------- 10.4/18.7 MB 2.1 MB/s eta 0:00:04\n",
      "     ---------------------- ----------------- 10.4/18.7 MB 2.1 MB/s eta 0:00:05\n",
      "     ---------------------- ----------------- 10.5/18.7 MB 2.0 MB/s eta 0:00:05\n",
      "     ---------------------- ----------------- 10.5/18.7 MB 2.0 MB/s eta 0:00:05\n",
      "     ---------------------- ----------------- 10.5/18.7 MB 2.0 MB/s eta 0:00:05\n",
      "     ---------------------- ----------------- 10.5/18.7 MB 2.0 MB/s eta 0:00:05\n",
      "     ---------------------- ----------------- 10.5/18.7 MB 2.0 MB/s eta 0:00:05\n",
      "     ---------------------- ----------------- 10.6/18.7 MB 2.0 MB/s eta 0:00:05\n",
      "     ---------------------- ----------------- 10.6/18.7 MB 1.9 MB/s eta 0:00:05\n",
      "     ---------------------- ----------------- 10.6/18.7 MB 1.9 MB/s eta 0:00:05\n",
      "     ---------------------- ----------------- 10.6/18.7 MB 1.9 MB/s eta 0:00:05\n",
      "     ---------------------- ----------------- 10.6/18.7 MB 1.9 MB/s eta 0:00:05\n",
      "     ---------------------- ----------------- 10.6/18.7 MB 1.9 MB/s eta 0:00:05\n",
      "     ---------------------- ----------------- 10.7/18.7 MB 1.9 MB/s eta 0:00:05\n",
      "     ---------------------- ----------------- 10.7/18.7 MB 1.8 MB/s eta 0:00:05\n",
      "     ---------------------- ----------------- 10.7/18.7 MB 1.8 MB/s eta 0:00:05\n",
      "     ---------------------- ----------------- 10.8/18.7 MB 1.8 MB/s eta 0:00:05\n",
      "     ---------------------- ----------------- 10.8/18.7 MB 1.8 MB/s eta 0:00:05\n",
      "     ---------------------- ----------------- 10.8/18.7 MB 1.8 MB/s eta 0:00:05\n",
      "     ----------------------- ---------------- 10.8/18.7 MB 1.8 MB/s eta 0:00:05\n",
      "     ----------------------- ---------------- 10.8/18.7 MB 1.8 MB/s eta 0:00:05\n",
      "     ----------------------- ---------------- 10.8/18.7 MB 1.8 MB/s eta 0:00:05\n",
      "     ----------------------- ---------------- 10.9/18.7 MB 1.7 MB/s eta 0:00:05\n",
      "     ----------------------- ---------------- 10.9/18.7 MB 1.7 MB/s eta 0:00:05\n",
      "     ----------------------- ---------------- 11.0/18.7 MB 1.7 MB/s eta 0:00:05\n",
      "     ----------------------- ---------------- 11.0/18.7 MB 1.7 MB/s eta 0:00:05\n",
      "     ----------------------- ---------------- 11.0/18.7 MB 1.7 MB/s eta 0:00:05\n",
      "     ----------------------- ---------------- 11.1/18.7 MB 1.7 MB/s eta 0:00:05\n",
      "     ----------------------- ---------------- 11.1/18.7 MB 1.7 MB/s eta 0:00:05\n",
      "     ----------------------- ---------------- 11.2/18.7 MB 1.7 MB/s eta 0:00:05\n",
      "     ----------------------- ---------------- 11.2/18.7 MB 1.7 MB/s eta 0:00:05\n",
      "     ------------------------ --------------- 11.3/18.7 MB 1.6 MB/s eta 0:00:05\n",
      "     ------------------------ --------------- 11.3/18.7 MB 1.6 MB/s eta 0:00:05\n",
      "     ------------------------ --------------- 11.4/18.7 MB 1.6 MB/s eta 0:00:05\n",
      "     ------------------------ --------------- 11.4/18.7 MB 1.6 MB/s eta 0:00:05\n",
      "     ------------------------ --------------- 11.5/18.7 MB 1.6 MB/s eta 0:00:05\n",
      "     ------------------------ --------------- 11.5/18.7 MB 1.6 MB/s eta 0:00:05\n",
      "     ------------------------ --------------- 11.6/18.7 MB 1.6 MB/s eta 0:00:05\n",
      "     ------------------------ --------------- 11.6/18.7 MB 1.6 MB/s eta 0:00:05\n",
      "     ------------------------ --------------- 11.7/18.7 MB 1.6 MB/s eta 0:00:05\n",
      "     ------------------------ --------------- 11.7/18.7 MB 1.6 MB/s eta 0:00:05\n",
      "     ------------------------- -------------- 11.7/18.7 MB 1.5 MB/s eta 0:00:05\n",
      "     ------------------------- -------------- 11.8/18.7 MB 1.5 MB/s eta 0:00:05\n",
      "     ------------------------- -------------- 11.8/18.7 MB 1.5 MB/s eta 0:00:05\n",
      "     ------------------------- -------------- 11.9/18.7 MB 1.5 MB/s eta 0:00:05\n",
      "     ------------------------- -------------- 12.0/18.7 MB 1.5 MB/s eta 0:00:05\n",
      "     ------------------------- -------------- 12.0/18.7 MB 1.5 MB/s eta 0:00:05\n",
      "     ------------------------- -------------- 12.1/18.7 MB 1.5 MB/s eta 0:00:05\n",
      "     ------------------------- -------------- 12.1/18.7 MB 1.5 MB/s eta 0:00:05\n",
      "     ------------------------- -------------- 12.2/18.7 MB 1.5 MB/s eta 0:00:05\n",
      "     -------------------------- ------------- 12.2/18.7 MB 1.5 MB/s eta 0:00:05\n",
      "     -------------------------- ------------- 12.3/18.7 MB 1.5 MB/s eta 0:00:05\n",
      "     -------------------------- ------------- 12.3/18.7 MB 1.4 MB/s eta 0:00:05\n",
      "     -------------------------- ------------- 12.4/18.7 MB 1.4 MB/s eta 0:00:05\n",
      "     -------------------------- ------------- 12.5/18.7 MB 1.4 MB/s eta 0:00:05\n",
      "     -------------------------- ------------- 12.5/18.7 MB 1.4 MB/s eta 0:00:05\n",
      "     -------------------------- ------------- 12.6/18.7 MB 1.4 MB/s eta 0:00:05\n",
      "     -------------------------- ------------- 12.6/18.7 MB 1.4 MB/s eta 0:00:05\n",
      "     --------------------------- ------------ 12.7/18.7 MB 1.4 MB/s eta 0:00:05\n",
      "     --------------------------- ------------ 12.8/18.7 MB 1.4 MB/s eta 0:00:05\n",
      "     --------------------------- ------------ 12.8/18.7 MB 1.4 MB/s eta 0:00:05\n",
      "     --------------------------- ------------ 12.9/18.7 MB 1.4 MB/s eta 0:00:05\n",
      "     --------------------------- ------------ 12.9/18.7 MB 1.4 MB/s eta 0:00:05\n",
      "     --------------------------- ------------ 13.0/18.7 MB 1.4 MB/s eta 0:00:05\n",
      "     --------------------------- ------------ 13.1/18.7 MB 1.4 MB/s eta 0:00:05\n",
      "     ---------------------------- ----------- 13.1/18.7 MB 1.4 MB/s eta 0:00:05\n",
      "     ---------------------------- ----------- 13.2/18.7 MB 1.3 MB/s eta 0:00:05\n",
      "     ---------------------------- ----------- 13.3/18.7 MB 1.4 MB/s eta 0:00:05\n",
      "     ---------------------------- ----------- 13.3/18.7 MB 1.4 MB/s eta 0:00:04\n",
      "     ---------------------------- ----------- 13.4/18.7 MB 1.3 MB/s eta 0:00:04\n",
      "     ---------------------------- ----------- 13.5/18.7 MB 1.3 MB/s eta 0:00:04\n",
      "     ---------------------------- ----------- 13.5/18.7 MB 1.3 MB/s eta 0:00:04\n",
      "     ---------------------------- ----------- 13.6/18.7 MB 1.3 MB/s eta 0:00:04\n",
      "     ----------------------------- ---------- 13.6/18.7 MB 1.3 MB/s eta 0:00:04\n",
      "     ----------------------------- ---------- 13.7/18.7 MB 1.3 MB/s eta 0:00:04\n",
      "     ----------------------------- ---------- 13.7/18.7 MB 1.3 MB/s eta 0:00:04\n",
      "     ----------------------------- ---------- 13.8/18.7 MB 1.3 MB/s eta 0:00:04\n",
      "     ----------------------------- ---------- 13.8/18.7 MB 1.3 MB/s eta 0:00:04\n",
      "     ----------------------------- ---------- 13.9/18.7 MB 1.3 MB/s eta 0:00:04\n",
      "     ----------------------------- ---------- 14.0/18.7 MB 1.3 MB/s eta 0:00:04\n",
      "     ----------------------------- ---------- 14.0/18.7 MB 1.3 MB/s eta 0:00:04\n",
      "     ------------------------------ --------- 14.1/18.7 MB 1.3 MB/s eta 0:00:04\n",
      "     ------------------------------ --------- 14.1/18.7 MB 1.3 MB/s eta 0:00:04\n",
      "     ------------------------------ --------- 14.2/18.7 MB 1.3 MB/s eta 0:00:04\n",
      "     ------------------------------ --------- 14.2/18.7 MB 1.3 MB/s eta 0:00:04\n",
      "     ------------------------------ --------- 14.3/18.7 MB 1.3 MB/s eta 0:00:04\n",
      "     ------------------------------ --------- 14.4/18.7 MB 1.3 MB/s eta 0:00:04\n",
      "     ------------------------------ --------- 14.4/18.7 MB 1.3 MB/s eta 0:00:04\n",
      "     ------------------------------ --------- 14.5/18.7 MB 1.3 MB/s eta 0:00:04\n",
      "     ------------------------------- -------- 14.5/18.7 MB 1.2 MB/s eta 0:00:04\n",
      "     ------------------------------- -------- 14.6/18.7 MB 1.2 MB/s eta 0:00:04\n",
      "     ------------------------------- -------- 14.6/18.7 MB 1.2 MB/s eta 0:00:04\n",
      "     ------------------------------- -------- 14.7/18.7 MB 1.2 MB/s eta 0:00:04\n",
      "     ------------------------------- -------- 14.7/18.7 MB 1.2 MB/s eta 0:00:04\n",
      "     ------------------------------- -------- 14.8/18.7 MB 1.2 MB/s eta 0:00:04\n",
      "     ------------------------------- -------- 14.8/18.7 MB 1.2 MB/s eta 0:00:04\n",
      "     ------------------------------- -------- 14.9/18.7 MB 1.2 MB/s eta 0:00:04\n",
      "     ------------------------------- -------- 14.9/18.7 MB 1.2 MB/s eta 0:00:04\n",
      "     ------------------------------- -------- 14.9/18.7 MB 1.2 MB/s eta 0:00:04\n",
      "     ------------------------------- -------- 15.0/18.7 MB 1.2 MB/s eta 0:00:04\n",
      "     -------------------------------- ------- 15.0/18.7 MB 1.2 MB/s eta 0:00:04\n",
      "     -------------------------------- ------- 15.1/18.7 MB 1.2 MB/s eta 0:00:04\n",
      "     -------------------------------- ------- 15.1/18.7 MB 1.2 MB/s eta 0:00:04\n",
      "     -------------------------------- ------- 15.2/18.7 MB 1.2 MB/s eta 0:00:03\n",
      "     -------------------------------- ------- 15.2/18.7 MB 1.2 MB/s eta 0:00:03\n",
      "     -------------------------------- ------- 15.3/18.7 MB 1.2 MB/s eta 0:00:03\n",
      "     -------------------------------- ------- 15.3/18.7 MB 1.2 MB/s eta 0:00:03\n",
      "     -------------------------------- ------- 15.3/18.7 MB 1.2 MB/s eta 0:00:03\n",
      "     -------------------------------- ------- 15.4/18.7 MB 1.2 MB/s eta 0:00:03\n",
      "     -------------------------------- ------- 15.5/18.7 MB 1.2 MB/s eta 0:00:03\n",
      "     --------------------------------- ------ 15.5/18.7 MB 1.2 MB/s eta 0:00:03\n",
      "     --------------------------------- ------ 15.6/18.7 MB 1.2 MB/s eta 0:00:03\n",
      "     --------------------------------- ------ 15.6/18.7 MB 1.2 MB/s eta 0:00:03\n",
      "     --------------------------------- ------ 15.7/18.7 MB 1.2 MB/s eta 0:00:03\n",
      "     --------------------------------- ------ 15.7/18.7 MB 1.2 MB/s eta 0:00:03\n",
      "     --------------------------------- ------ 15.8/18.7 MB 1.1 MB/s eta 0:00:03\n",
      "     --------------------------------- ------ 15.8/18.7 MB 1.1 MB/s eta 0:00:03\n",
      "     --------------------------------- ------ 15.9/18.7 MB 1.1 MB/s eta 0:00:03\n",
      "     ---------------------------------- ----- 15.9/18.7 MB 1.1 MB/s eta 0:00:03\n",
      "     ---------------------------------- ----- 16.0/18.7 MB 1.1 MB/s eta 0:00:03\n",
      "     ---------------------------------- ----- 16.0/18.7 MB 1.1 MB/s eta 0:00:03\n",
      "     ---------------------------------- ----- 16.1/18.7 MB 1.1 MB/s eta 0:00:03\n",
      "     ---------------------------------- ----- 16.2/18.7 MB 1.1 MB/s eta 0:00:03\n",
      "     ---------------------------------- ----- 16.2/18.7 MB 1.1 MB/s eta 0:00:03\n",
      "     ---------------------------------- ----- 16.3/18.7 MB 1.1 MB/s eta 0:00:03\n",
      "     ---------------------------------- ----- 16.3/18.7 MB 1.1 MB/s eta 0:00:03\n",
      "     ---------------------------------- ----- 16.4/18.7 MB 1.1 MB/s eta 0:00:03\n",
      "     ----------------------------------- ---- 16.5/18.7 MB 1.1 MB/s eta 0:00:03\n",
      "     ----------------------------------- ---- 16.5/18.7 MB 1.1 MB/s eta 0:00:03\n",
      "     ----------------------------------- ---- 16.6/18.7 MB 1.1 MB/s eta 0:00:02\n",
      "     ----------------------------------- ---- 16.6/18.7 MB 1.1 MB/s eta 0:00:02\n",
      "     ----------------------------------- ---- 16.7/18.7 MB 1.1 MB/s eta 0:00:02\n",
      "     ----------------------------------- ---- 16.7/18.7 MB 1.1 MB/s eta 0:00:02\n",
      "     ----------------------------------- ---- 16.8/18.7 MB 1.1 MB/s eta 0:00:02\n",
      "     ----------------------------------- ---- 16.9/18.7 MB 1.1 MB/s eta 0:00:02\n",
      "     ------------------------------------ --- 16.9/18.7 MB 1.1 MB/s eta 0:00:02\n",
      "     ------------------------------------ --- 17.0/18.7 MB 1.1 MB/s eta 0:00:02\n",
      "     ------------------------------------ --- 17.0/18.7 MB 1.1 MB/s eta 0:00:02\n",
      "     ------------------------------------ --- 17.1/18.7 MB 1.1 MB/s eta 0:00:02\n",
      "     ------------------------------------ --- 17.2/18.7 MB 1.1 MB/s eta 0:00:02\n",
      "     ------------------------------------ --- 17.2/18.7 MB 1.1 MB/s eta 0:00:02\n",
      "     ------------------------------------ --- 17.3/18.7 MB 1.1 MB/s eta 0:00:02\n",
      "     ------------------------------------- -- 17.4/18.7 MB 1.1 MB/s eta 0:00:02\n",
      "     ------------------------------------- -- 17.4/18.7 MB 1.1 MB/s eta 0:00:02\n",
      "     ------------------------------------- -- 17.5/18.7 MB 1.1 MB/s eta 0:00:02\n",
      "     ------------------------------------- -- 17.6/18.7 MB 1.1 MB/s eta 0:00:02\n",
      "     ------------------------------------- -- 17.7/18.7 MB 1.1 MB/s eta 0:00:02\n",
      "     ------------------------------------- -- 17.7/18.7 MB 1.1 MB/s eta 0:00:01\n",
      "     ------------------------------------- -- 17.8/18.7 MB 1.1 MB/s eta 0:00:01\n",
      "     -------------------------------------- - 17.8/18.7 MB 1.1 MB/s eta 0:00:01\n",
      "     -------------------------------------- - 17.9/18.7 MB 1.1 MB/s eta 0:00:01\n",
      "     -------------------------------------- - 18.0/18.7 MB 1.1 MB/s eta 0:00:01\n",
      "     -------------------------------------- - 18.1/18.7 MB 1.1 MB/s eta 0:00:01\n",
      "     -------------------------------------- - 18.2/18.7 MB 1.1 MB/s eta 0:00:01\n",
      "     -------------------------------------- - 18.2/18.7 MB 1.1 MB/s eta 0:00:01\n",
      "     ---------------------------------------  18.3/18.7 MB 1.1 MB/s eta 0:00:01\n",
      "     ---------------------------------------  18.4/18.7 MB 1.1 MB/s eta 0:00:01\n",
      "     ---------------------------------------  18.5/18.7 MB 1.1 MB/s eta 0:00:01\n",
      "     ---------------------------------------  18.5/18.7 MB 1.1 MB/s eta 0:00:01\n",
      "     ---------------------------------------  18.6/18.7 MB 1.1 MB/s eta 0:00:01\n",
      "     ---------------------------------------  18.7/18.7 MB 1.1 MB/s eta 0:00:01\n",
      "     ---------------------------------------  18.7/18.7 MB 1.1 MB/s eta 0:00:01\n",
      "     ---------------------------------------  18.7/18.7 MB 1.1 MB/s eta 0:00:01\n",
      "     ---------------------------------------- 18.7/18.7 MB 1.1 MB/s eta 0:00:00\n",
      "Installing collected packages: PyMuPDF\n",
      "Successfully installed PyMuPDF-1.26.4\n"
     ]
    },
    {
     "name": "stderr",
     "output_type": "stream",
     "text": [
      "\n",
      "[notice] A new release of pip is available: 23.0.1 -> 25.2\n",
      "[notice] To update, run: python.exe -m pip install --upgrade pip\n"
     ]
    }
   ],
   "source": [
    "%pip install PyMuPDF   "
   ]
  },
  {
   "cell_type": "code",
   "execution_count": 3,
   "id": "a260df57",
   "metadata": {},
   "outputs": [
    {
     "name": "stdout",
     "output_type": "stream",
     "text": [
      "Toplam 100 PDF işlendi.\n"
     ]
    }
   ],
   "source": [
    "import fitz  # PyMuPDF\n",
    "import json\n",
    "import os\n",
    "\n",
    "pdf_folder = \"../data/raw/PDFs\"  # PDF dosyalarının olduğu klasör\n",
    "output_file = \"../data/processed/pdf_dataset.jsonl\"\n",
    "\n",
    "pdf_count = 0  # PDF sayacı\n",
    "\n",
    "with open(output_file, \"w\", encoding=\"utf-8\") as outfile:\n",
    "    for filename in os.listdir(pdf_folder):\n",
    "        if filename.lower().endswith(\".pdf\"):\n",
    "            pdf_path = os.path.join(pdf_folder, filename)\n",
    "            doc = fitz.open(pdf_path)\n",
    "            full_text = \"\"\n",
    "            for page in doc:\n",
    "                full_text += page.get_text()\n",
    "            doc.close()\n",
    "            \n",
    "            pdf_count += 1  # PDF sayısını artır\n",
    "            \n",
    "            # JSONL kaydı\n",
    "            record = {\n",
    "                \"text\": full_text,\n",
    "                \"label\": \"\"  # Şimdilik boş bırakıyoruz\n",
    "            }\n",
    "            outfile.write(json.dumps(record, ensure_ascii=False) + \"\\n\")\n",
    "\n",
    "print(f\"Toplam {pdf_count} PDF işlendi.\")\n"
   ]
  },
  {
   "cell_type": "markdown",
   "id": "bb9f5aa4",
   "metadata": {},
   "source": [
    "# pdf_dataset.jsonl dosyasıdaki metinleri temizle"
   ]
  },
  {
   "cell_type": "code",
   "execution_count": 4,
   "id": "bb7605b5",
   "metadata": {},
   "outputs": [],
   "source": [
    "# PDF metinlerini temizlemek için fonksiyon\n",
    "import re\n",
    "\n",
    "def clean_text(text):\n",
    "    \"\"\"PDF'den çıkarılan metinleri temizler\"\"\"\n",
    "    \n",
    "    # Boş metin kontrolü\n",
    "    if not text or text.strip() == \"\":\n",
    "        return \"\"\n",
    "    \n",
    "    # 1. Fazla boşlukları ve satır sonlarını temizle\n",
    "    text = re.sub(r'\\n+', ' ', text)  # Birden fazla \\n'i tek boşlukla değiştir\n",
    "    text = re.sub(r'\\s+', ' ', text)  # Birden fazla boşluğu tek boşlukla değiştir\n",
    "    \n",
    "    # 2. Sayfa numaralarını kaldır (tek başına duran sayılar)\n",
    "    text = re.sub(r'\\b\\d+/\\d+\\b', '', text)  # \"2/2\", \"3/4\" gibi\n",
    "    text = re.sub(r'^\\d+\\s*$', '', text, flags=re.MULTILINE)  # Tek başına sayılar\n",
    "    \n",
    "    # 3. Dosya numaralarını kaldır\n",
    "    text = re.sub(r'\\d{2}-\\d{2}/\\d{3}-\\d{3}', '', text)  # \"07-75/898-340\" formatı\n",
    "    \n",
    "    # 4. Ticari sır ifadelerini kaldır\n",
    "    text = re.sub(r'Ticari sır[\\.…]*', '', text)\n",
    "    \n",
    "    # 5. Email adreslerini maskele (gizlilik için)\n",
    "    text = re.sub(r'\\b[A-Za-z0-9._%+-]+@[A-Za-z0-9.-]+\\.[A-Z|a-z]{2,}\\b', '[EMAIL_MASKELENDI]', text)\n",
    "    \n",
    "    # 6. Özel karakterleri temizle (@, #, %, &, *, +, =, <, >, |, \\, /, ~)\n",
    "    text = re.sub(r'[@#%&*+=<>|\\\\\\/~]', ' ', text)\n",
    "    \n",
    "    # 7. Tarih formatlarını standartlaştır\n",
    "    # DD.MM.YYYY formatını standartlaştır\n",
    "    text = re.sub(r'\\b(\\d{1,2})\\.(\\d{1,2})\\.(\\d{4})\\b', r'\\1.\\2.\\3', text)\n",
    "    # DD/MM/YYYY formatını DD.MM.YYYY'ye çevir\n",
    "    text = re.sub(r'\\b(\\d{1,2})/(\\d{1,2})/(\\d{4})\\b', r'\\1.\\2.\\3', text)\n",
    "    # YYYY-MM-DD formatını DD.MM.YYYY'ye çevir\n",
    "    text = re.sub(r'\\b(\\d{4})-(\\d{1,2})-(\\d{1,2})\\b', r'\\3.\\2.\\1', text)\n",
    "    \n",
    "    # 8. Fazla noktalama işaretlerini temizle\n",
    "    text = re.sub(r'\\.{2,}', '.', text)  # Birden fazla noktayı tek nokta yap\n",
    "    text = re.sub(r',{2,}', ',', text)   # Birden fazla virgülü tek virgül yap\n",
    "    text = re.sub(r';{2,}', ';', text)   # Birden fazla noktalı virgülü tek yap\n",
    "    \n",
    "    # 9. Başlangıç ve sondaki boşlukları temizle\n",
    "    text = text.strip()\n",
    "    \n",
    "    # 10. Fazla boşlukları tekrar temizle (özel karakter temizleme sonrası)\n",
    "    text = re.sub(r'\\s+', ' ', text)\n",
    "    \n",
    "    # 11. Büyük/küçük harf düzenleme (opsiyonel - şimdilik kapalı)\n",
    "    # Eğer tüm metni küçük harf yapmak istiyorsanız:\n",
    "    # text = text.lower()\n",
    "    \n",
    "    # Eğer sadece ilk harfi büyük yapmak istiyorsanız:\n",
    "    # text = text.capitalize()\n",
    "    \n",
    "    # 12. Çok kısa metinleri filtrele (10 karakterden az)\n",
    "    # amaç: 10 karakterden kısa metinler genellikle model eğitimi için yeterli bilgi içermiyor\n",
    "    if len(text) < 10:\n",
    "        return \"\"\n",
    "    \n",
    "    return text\n"
   ]
  },
  {
   "cell_type": "code",
   "execution_count": 5,
   "id": "e35addcc",
   "metadata": {},
   "outputs": [
    {
     "name": "stdout",
     "output_type": "stream",
     "text": [
      "Temizleme tamamlandı!\n",
      "Temizlenen kayıt sayısı: 100\n",
      "Atlanan kayıt sayısı: 0\n",
      "Temizlenmiş dosya: ../data/processed/pdf_dataset_cleaned.jsonl\n"
     ]
    }
   ],
   "source": [
    "# Mevcut PDF dataset'ini temizle ve yeni dosya oluştur\n",
    "import json\n",
    "\n",
    "input_file = \"../data/processed/pdf_dataset.jsonl\"\n",
    "output_file = \"../data/processed/pdf_dataset_cleaned.jsonl\"\n",
    "\n",
    "cleaned_count = 0\n",
    "skipped_count = 0\n",
    "\n",
    "with open(input_file, \"r\", encoding=\"utf-8\") as infile, \\\n",
    "     open(output_file, \"w\", encoding=\"utf-8\") as outfile:\n",
    "    \n",
    "    for line in infile:\n",
    "        data = json.loads(line)\n",
    "        original_text = data[\"text\"]\n",
    "        \n",
    "        # Metni temizle\n",
    "        cleaned_text = clean_text(original_text)\n",
    "        \n",
    "        # Temizlenmiş metin yeterince uzunsa kaydet\n",
    "        if cleaned_text:\n",
    "            cleaned_record = {\n",
    "                \"text\": cleaned_text,\n",
    "                \"label\": data[\"label\"]\n",
    "            }\n",
    "            outfile.write(json.dumps(cleaned_record, ensure_ascii=False) + \"\\n\")\n",
    "            cleaned_count += 1\n",
    "        else:\n",
    "            skipped_count += 1\n",
    "\n",
    "print(f\"Temizleme tamamlandı!\")\n",
    "print(f\"Temizlenen kayıt sayısı: {cleaned_count}\")\n",
    "print(f\"Atlanan kayıt sayısı: {skipped_count}\")\n",
    "print(f\"Temizlenmiş dosya: {output_file}\")\n"
   ]
  },
  {
   "cell_type": "markdown",
   "id": "80baa9ac",
   "metadata": {},
   "source": [
    "# PDF lerden oluşan JSONL verisini etiketleyelim"
   ]
  },
  {
   "cell_type": "markdown",
   "id": "779699d9",
   "metadata": {},
   "source": [
    "Etiketli JSONL’den dataset oluşturuyor ve label’ları encode ediyor.\n",
    "\n",
    "Tokenizer ve Türkçe BERT modelini yüklüyor.\n",
    "\n",
    "Modeli train ediyor (3 epoch, fp16 ile).\n",
    "\n",
    "PDF JSONL metinlerini alıp, tahmin yapıyor ve confidence skoru ekliyor.\n",
    "\n",
    "Sonuçları yeni bir JSONL dosyasına yazıyor (label ve confidence ile)."
   ]
  },
  {
   "cell_type": "code",
   "execution_count": 7,
   "id": "11586445",
   "metadata": {},
   "outputs": [
    {
     "name": "stdout",
     "output_type": "stream",
     "text": [
      "Collecting transformers\n",
      "  Using cached transformers-4.56.1-py3-none-any.whl (11.6 MB)\n",
      "Requirement already satisfied: numpy>=1.17 in d:\\email compliance classification\\new_env\\lib\\site-packages (from transformers) (2.2.6)\n",
      "Collecting huggingface-hub<1.0,>=0.34.0\n",
      "  Using cached huggingface_hub-0.34.4-py3-none-any.whl (561 kB)\n",
      "Requirement already satisfied: packaging>=20.0 in d:\\email compliance classification\\new_env\\lib\\site-packages (from transformers) (25.0)\n",
      "Requirement already satisfied: pyyaml>=5.1 in d:\\email compliance classification\\new_env\\lib\\site-packages (from transformers) (6.0.2)\n",
      "Collecting tokenizers<=0.23.0,>=0.22.0\n",
      "  Using cached tokenizers-0.22.0-cp39-abi3-win_amd64.whl (2.7 MB)\n",
      "Requirement already satisfied: tqdm>=4.27 in d:\\email compliance classification\\new_env\\lib\\site-packages (from transformers) (4.67.1)\n",
      "Collecting filelock\n",
      "  Using cached filelock-3.19.1-py3-none-any.whl (15 kB)\n",
      "Collecting requests\n",
      "  Using cached requests-2.32.5-py3-none-any.whl (64 kB)\n",
      "Requirement already satisfied: regex!=2019.12.17 in d:\\email compliance classification\\new_env\\lib\\site-packages (from transformers) (2025.9.1)\n",
      "Requirement already satisfied: safetensors>=0.4.3 in d:\\email compliance classification\\new_env\\lib\\site-packages (from transformers) (0.6.2)\n",
      "Requirement already satisfied: typing-extensions>=3.7.4.3 in d:\\email compliance classification\\new_env\\lib\\site-packages (from huggingface-hub<1.0,>=0.34.0->transformers) (4.15.0)\n",
      "Collecting fsspec>=2023.5.0\n",
      "  Using cached fsspec-2025.9.0-py3-none-any.whl (199 kB)\n",
      "Requirement already satisfied: colorama in d:\\email compliance classification\\new_env\\lib\\site-packages (from tqdm>=4.27->transformers) (0.4.6)\n",
      "Collecting idna<4,>=2.5\n",
      "  Using cached idna-3.10-py3-none-any.whl (70 kB)\n",
      "Requirement already satisfied: urllib3<3,>=1.21.1 in d:\\email compliance classification\\new_env\\lib\\site-packages (from requests->transformers) (2.5.0)\n",
      "Collecting certifi>=2017.4.17\n",
      "  Using cached certifi-2025.8.3-py3-none-any.whl (161 kB)\n",
      "Collecting charset_normalizer<4,>=2\n",
      "  Using cached charset_normalizer-3.4.3-cp310-cp310-win_amd64.whl (107 kB)\n",
      "Installing collected packages: idna, fsspec, filelock, charset_normalizer, certifi, requests, huggingface-hub, tokenizers, transformers\n",
      "Note: you may need to restart the kernel to use updated packages.\n"
     ]
    },
    {
     "name": "stderr",
     "output_type": "stream",
     "text": [
      "ERROR: Could not install packages due to an OSError: [WinError 32] Dosya başka bir işlem tarafından kullanıldığından bu işlem dosyaya erişemiyor: 'd:\\\\Email Compliance Classification\\\\new_env\\\\Lib\\\\site-packages\\\\fsspec\\\\implementations\\\\cached.py'\n",
      "Check the permissions.\n",
      "\n",
      "\n",
      "[notice] A new release of pip is available: 23.0.1 -> 25.2\n",
      "[notice] To update, run: python.exe -m pip install --upgrade pip\n"
     ]
    }
   ],
   "source": [
    "%pip install transformers"
   ]
  },
  {
   "cell_type": "code",
   "execution_count": 8,
   "id": "cb6dca82",
   "metadata": {},
   "outputs": [
    {
     "name": "stdout",
     "output_type": "stream",
     "text": [
      "Collecting datasetsNote: you may need to restart the kernel to use updated packages.\n"
     ]
    },
    {
     "name": "stderr",
     "output_type": "stream",
     "text": [
      "\n",
      "[notice] A new release of pip is available: 23.0.1 -> 25.2\n",
      "[notice] To update, run: python.exe -m pip install --upgrade pip\n"
     ]
    },
    {
     "name": "stdout",
     "output_type": "stream",
     "text": [
      "\n",
      "  Using cached datasets-4.0.0-py3-none-any.whl (494 kB)\n",
      "Requirement already satisfied: xxhash in d:\\email compliance classification\\new_env\\lib\\site-packages (from datasets) (3.5.0)\n",
      "Requirement already satisfied: pyyaml>=5.1 in d:\\email compliance classification\\new_env\\lib\\site-packages (from datasets) (6.0.2)\n",
      "Requirement already satisfied: packaging in d:\\email compliance classification\\new_env\\lib\\site-packages (from datasets) (25.0)\n",
      "Collecting requests>=2.32.2\n",
      "  Using cached requests-2.32.5-py3-none-any.whl (64 kB)\n",
      "Collecting pandas\n",
      "  Using cached pandas-2.3.2-cp310-cp310-win_amd64.whl (11.3 MB)\n",
      "Requirement already satisfied: fsspec[http]<=2025.3.0,>=2023.1.0 in d:\\email compliance classification\\new_env\\lib\\site-packages (from datasets) (2025.3.0)\n",
      "Requirement already satisfied: numpy>=1.17 in d:\\email compliance classification\\new_env\\lib\\site-packages (from datasets) (2.2.6)\n",
      "Requirement already satisfied: dill<0.3.9,>=0.3.0 in d:\\email compliance classification\\new_env\\lib\\site-packages (from datasets) (0.3.8)\n",
      "Collecting multiprocess<0.70.17\n",
      "  Using cached multiprocess-0.70.16-py310-none-any.whl (134 kB)\n",
      "Collecting huggingface-hub>=0.24.0\n",
      "  Using cached huggingface_hub-0.34.4-py3-none-any.whl (561 kB)\n",
      "Requirement already satisfied: tqdm>=4.66.3 in d:\\email compliance classification\\new_env\\lib\\site-packages (from datasets) (4.67.1)\n",
      "Requirement already satisfied: pyarrow>=15.0.0 in d:\\email compliance classification\\new_env\\lib\\site-packages (from datasets) (21.0.0)\n",
      "Requirement already satisfied: filelock in d:\\email compliance classification\\new_env\\lib\\site-packages (from datasets) (3.19.1)\n",
      "Collecting aiohttp!=4.0.0a0,!=4.0.0a1\n",
      "  Using cached aiohttp-3.12.15-cp310-cp310-win_amd64.whl (452 kB)\n",
      "Requirement already satisfied: typing-extensions>=3.7.4.3 in d:\\email compliance classification\\new_env\\lib\\site-packages (from huggingface-hub>=0.24.0->datasets) (4.15.0)\n",
      "Requirement already satisfied: urllib3<3,>=1.21.1 in d:\\email compliance classification\\new_env\\lib\\site-packages (from requests>=2.32.2->datasets) (2.5.0)\n",
      "Requirement already satisfied: certifi>=2017.4.17 in d:\\email compliance classification\\new_env\\lib\\site-packages (from requests>=2.32.2->datasets) (2025.8.3)\n",
      "Requirement already satisfied: idna<4,>=2.5 in d:\\email compliance classification\\new_env\\lib\\site-packages (from requests>=2.32.2->datasets) (3.10)\n",
      "Requirement already satisfied: charset_normalizer<4,>=2 in d:\\email compliance classification\\new_env\\lib\\site-packages (from requests>=2.32.2->datasets) (3.4.3)\n",
      "Requirement already satisfied: colorama in d:\\email compliance classification\\new_env\\lib\\site-packages (from tqdm>=4.66.3->datasets) (0.4.6)\n",
      "Requirement already satisfied: tzdata>=2022.7 in d:\\email compliance classification\\new_env\\lib\\site-packages (from pandas->datasets) (2025.2)\n",
      "Requirement already satisfied: python-dateutil>=2.8.2 in d:\\email compliance classification\\new_env\\lib\\site-packages (from pandas->datasets) (2.9.0.post0)\n",
      "Requirement already satisfied: pytz>=2020.1 in d:\\email compliance classification\\new_env\\lib\\site-packages (from pandas->datasets) (2025.2)\n",
      "Requirement already satisfied: frozenlist>=1.1.1 in d:\\email compliance classification\\new_env\\lib\\site-packages (from aiohttp!=4.0.0a0,!=4.0.0a1->fsspec[http]<=2025.3.0,>=2023.1.0->datasets) (1.7.0)\n",
      "Requirement already satisfied: attrs>=17.3.0 in d:\\email compliance classification\\new_env\\lib\\site-packages (from aiohttp!=4.0.0a0,!=4.0.0a1->fsspec[http]<=2025.3.0,>=2023.1.0->datasets) (25.3.0)\n",
      "Collecting async-timeout<6.0,>=4.0\n",
      "  Using cached async_timeout-5.0.1-py3-none-any.whl (6.2 kB)\n",
      "Collecting aiohappyeyeballs>=2.5.0\n",
      "  Using cached aiohappyeyeballs-2.6.1-py3-none-any.whl (15 kB)\n",
      "Requirement already satisfied: propcache>=0.2.0 in d:\\email compliance classification\\new_env\\lib\\site-packages (from aiohttp!=4.0.0a0,!=4.0.0a1->fsspec[http]<=2025.3.0,>=2023.1.0->datasets) (0.3.2)\n",
      "Requirement already satisfied: multidict<7.0,>=4.5 in d:\\email compliance classification\\new_env\\lib\\site-packages (from aiohttp!=4.0.0a0,!=4.0.0a1->fsspec[http]<=2025.3.0,>=2023.1.0->datasets) (6.6.4)\n",
      "Collecting yarl<2.0,>=1.17.0\n",
      "  Using cached yarl-1.20.1-cp310-cp310-win_amd64.whl (86 kB)\n",
      "Collecting aiosignal>=1.4.0\n",
      "  Using cached aiosignal-1.4.0-py3-none-any.whl (7.5 kB)\n",
      "Requirement already satisfied: six>=1.5 in d:\\email compliance classification\\new_env\\lib\\site-packages (from python-dateutil>=2.8.2->pandas->datasets) (1.17.0)\n",
      "Installing collected packages: requests, multiprocess, async-timeout, aiosignal, aiohappyeyeballs, yarl, pandas, huggingface-hub, aiohttp, datasets\n",
      "Successfully installed aiohappyeyeballs-2.6.1 aiohttp-3.12.15 aiosignal-1.4.0 async-timeout-5.0.1 datasets-4.0.0 huggingface-hub-0.34.4 multiprocess-0.70.16 pandas-2.3.2 requests-2.32.5 yarl-1.20.1\n"
     ]
    }
   ],
   "source": [
    "%pip install datasets"
   ]
  },
  {
   "cell_type": "code",
   "execution_count": 9,
   "id": "5da73375",
   "metadata": {},
   "outputs": [
    {
     "name": "stdout",
     "output_type": "stream",
     "text": [
      "Collecting scikit-learn\n",
      "  Using cached scikit_learn-1.7.2-cp310-cp310-win_amd64.whl (8.9 MB)\n",
      "Requirement already satisfied: numpy>=1.22.0 in d:\\email compliance classification\\new_env\\lib\\site-packages (from scikit-learn) (2.2.6)\n",
      "Requirement already satisfied: threadpoolctl>=3.1.0 in d:\\email compliance classification\\new_env\\lib\\site-packages (from scikit-learn) (3.6.0)\n",
      "Requirement already satisfied: scipy>=1.8.0 in d:\\email compliance classification\\new_env\\lib\\site-packages (from scikit-learn) (1.15.3)\n",
      "Requirement already satisfied: joblib>=1.2.0 in d:\\email compliance classification\\new_env\\lib\\site-packages (from scikit-learn) (1.5.2)\n",
      "Installing collected packages: scikit-learn\n",
      "Successfully installed scikit-learn-1.7.2\n",
      "Note: you may need to restart the kernel to use updated packages.\n"
     ]
    },
    {
     "name": "stderr",
     "output_type": "stream",
     "text": [
      "\n",
      "[notice] A new release of pip is available: 23.0.1 -> 25.2\n",
      "[notice] To update, run: python.exe -m pip install --upgrade pip\n"
     ]
    }
   ],
   "source": [
    "%pip install scikit-learn"
   ]
  },
  {
   "cell_type": "code",
   "execution_count": null,
   "id": "d1e3dc02",
   "metadata": {},
   "outputs": [],
   "source": [
    "## Önce mevcut torch'u kaldır, sonra CUDA versiyonunu yükle\n",
    "#%pip uninstall torch torchvision -y\n",
    "#%pip install torch torchvision --index-url https://download.pytorch.org/whl/cu128"
   ]
  },
  {
   "cell_type": "code",
   "execution_count": 1,
   "id": "6349f27e",
   "metadata": {},
   "outputs": [
    {
     "name": "stdout",
     "output_type": "stream",
     "text": [
      "PyTorch versiyonu: 2.8.0+cu128\n",
      "CUDA mevcut mu: True\n",
      "CUDA versiyonu: 12.8\n",
      "GPU sayısı: 1\n",
      "GPU 0: NVIDIA GeForce RTX 3060 Laptop GPU\n"
     ]
    }
   ],
   "source": [
    "# PyTorch versiyon kontrolü\n",
    "import torch\n",
    "print(f\"PyTorch versiyonu: {torch.__version__}\")\n",
    "print(f\"CUDA mevcut mu: {torch.cuda.is_available()}\")\n",
    "if torch.cuda.is_available():\n",
    "    print(f\"CUDA versiyonu: {torch.version.cuda}\")\n",
    "    print(f\"GPU sayısı: {torch.cuda.device_count()}\")\n",
    "    for i in range(torch.cuda.device_count()):\n",
    "        print(f\"GPU {i}: {torch.cuda.get_device_name(i)}\")\n",
    "else:\n",
    "    print(\"CUDA kullanılamıyor, CPU kullanılacak.\")\n"
   ]
  },
  {
   "cell_type": "code",
   "execution_count": 7,
   "id": "ed3a9aeb",
   "metadata": {},
   "outputs": [
    {
     "name": "stderr",
     "output_type": "stream",
     "text": [
      "Map: 100%|██████████| 11749/11749 [00:00<00:00, 27875.87 examples/s]\n"
     ]
    }
   ],
   "source": [
    "import json\n",
    "from datasets import load_dataset, Dataset\n",
    "from transformers import AutoTokenizer, AutoModelForSequenceClassification, TrainingArguments, Trainer\n",
    "import torch\n",
    "from sklearn.metrics import f1_score, precision_score, recall_score, accuracy_score\n",
    "import numpy as np\n",
    "\n",
    "# -----------------------------\n",
    "# 1️⃣ Etiketli JSONL'den dataset oluştur\n",
    "# -----------------------------\n",
    "train_file = \"../data/processed/dataset_formatted.jsonl\"  # Etiketli JSONL\n",
    "pdf_file = \"../data/processed/pdf_dataset_cleaned.jsonl\"  # Etiketsiz PDF JSONL\n",
    "\n",
    "def load_jsonl(file_path):\n",
    "    data = []\n",
    "    with open(file_path, \"r\", encoding=\"utf-8\") as f:\n",
    "        for line in f:\n",
    "            data.append(json.loads(line))\n",
    "    return data\n",
    "\n",
    "train_data = load_jsonl(train_file)\n",
    "pdf_data = load_jsonl(pdf_file)\n",
    "\n",
    "# HuggingFace dataset formatına çevir\n",
    "dataset = Dataset.from_list(train_data)\n",
    "\n",
    "# label map\n",
    "labels = list(set([item['label'] for item in train_data]))\n",
    "label2id = {label:i for i,label in enumerate(labels)}\n",
    "id2label = {i:label for label,i in label2id.items()}\n",
    "\n",
    "def encode_labels(example):\n",
    "    example['label'] = label2id[example['label']]\n",
    "    return example\n",
    "\n",
    "dataset = dataset.map(encode_labels)\n"
   ]
  },
  {
   "cell_type": "code",
   "execution_count": 8,
   "id": "bfecab82",
   "metadata": {},
   "outputs": [],
   "source": [
    "\n",
    "# ✅ Train / Validation split\n",
    "dataset = dataset.train_test_split(test_size=0.2, seed=42)\n",
    "train_dataset = dataset[\"train\"]\n",
    "eval_dataset = dataset[\"test\"]\n",
    "\n"
   ]
  },
  {
   "cell_type": "markdown",
   "id": "c4631491",
   "metadata": {},
   "source": [
    "model link: https://huggingface.co/dbmdz/bert-base-turkish-cased"
   ]
  },
  {
   "cell_type": "code",
   "execution_count": 9,
   "id": "b60c73b8",
   "metadata": {},
   "outputs": [
    {
     "name": "stderr",
     "output_type": "stream",
     "text": [
      "Map: 100%|██████████| 9399/9399 [00:01<00:00, 5761.92 examples/s]\n",
      "Map: 100%|██████████| 2350/2350 [00:00<00:00, 5900.21 examples/s]\n",
      "Some weights of BertForSequenceClassification were not initialized from the model checkpoint at dbmdz/bert-base-turkish-cased and are newly initialized: ['classifier.bias', 'classifier.weight']\n",
      "You should probably TRAIN this model on a down-stream task to be able to use it for predictions and inference.\n"
     ]
    },
    {
     "name": "stdout",
     "output_type": "stream",
     "text": [
      "Model cuda cihazına yüklendi.\n"
     ]
    }
   ],
   "source": [
    "\n",
    "# -----------------------------\n",
    "# 2️⃣ Tokenizer ve Model\n",
    "# -----------------------------\n",
    "model_name = \"dbmdz/bert-base-turkish-cased\"  # Türkçe BERT\n",
    "tokenizer = AutoTokenizer.from_pretrained(model_name)\n",
    "\n",
    "def tokenize(batch):\n",
    "    return tokenizer(batch['text'], padding=True, truncation=True, max_length=512)\n",
    "\n",
    "train_dataset = train_dataset.map(tokenize, batched=True)\n",
    "eval_dataset = eval_dataset.map(tokenize, batched=True)\n",
    "\n",
    "model = AutoModelForSequenceClassification.from_pretrained(\n",
    "    model_name,\n",
    "    num_labels=len(labels),\n",
    "    id2label=id2label,\n",
    "    label2id=label2id\n",
    ")\n",
    "\n",
    "# CUDA kullanılabilirliğini kontrol et\n",
    "device = torch.device(\"cuda\" if torch.cuda.is_available() else \"cpu\")\n",
    "model = model.to(device)\n",
    "print(f\"Model {device} cihazına yüklendi.\")\n"
   ]
  },
  {
   "cell_type": "code",
   "execution_count": 10,
   "id": "f28be7d8",
   "metadata": {},
   "outputs": [],
   "source": [
    "\n",
    "# -----------------------------\n",
    "# 3️⃣ Metric fonksiyonu (✅ accuracy eklendi)\n",
    "# -----------------------------\n",
    "def compute_metrics(eval_pred):\n",
    "    logits, labels_true = eval_pred\n",
    "    preds = np.argmax(logits, axis=-1)\n",
    "    return {\n",
    "        \"accuracy\": accuracy_score(labels_true, preds),\n",
    "        \"macro_f1\": f1_score(labels_true, preds, average=\"macro\"),\n",
    "        \"precision\": precision_score(labels_true, preds, average=\"macro\"),\n",
    "        \"recall\": recall_score(labels_true, preds, average=\"macro\")\n",
    "    }\n",
    "\n"
   ]
  },
  {
   "cell_type": "code",
   "execution_count": 12,
   "id": "3732977d",
   "metadata": {},
   "outputs": [
    {
     "name": "stderr",
     "output_type": "stream",
     "text": [
      "C:\\Users\\tokel\\AppData\\Local\\Temp\\ipykernel_16312\\479657146.py:18: FutureWarning: `tokenizer` is deprecated and will be removed in version 5.0.0 for `Trainer.__init__`. Use `processing_class` instead.\n",
      "  trainer = Trainer(\n"
     ]
    },
    {
     "data": {
      "text/html": [
       "\n",
       "    <div>\n",
       "      \n",
       "      <progress value='3525' max='3525' style='width:300px; height:20px; vertical-align: middle;'></progress>\n",
       "      [3525/3525 12:04, Epoch 3/3]\n",
       "    </div>\n",
       "    <table border=\"1\" class=\"dataframe\">\n",
       "  <thead>\n",
       " <tr style=\"text-align: left;\">\n",
       "      <th>Epoch</th>\n",
       "      <th>Training Loss</th>\n",
       "      <th>Validation Loss</th>\n",
       "      <th>Accuracy</th>\n",
       "      <th>Macro F1</th>\n",
       "      <th>Precision</th>\n",
       "      <th>Recall</th>\n",
       "    </tr>\n",
       "  </thead>\n",
       "  <tbody>\n",
       "    <tr>\n",
       "      <td>1</td>\n",
       "      <td>0.687900</td>\n",
       "      <td>0.661854</td>\n",
       "      <td>0.790638</td>\n",
       "      <td>0.690811</td>\n",
       "      <td>0.747493</td>\n",
       "      <td>0.668037</td>\n",
       "    </tr>\n",
       "    <tr>\n",
       "      <td>2</td>\n",
       "      <td>0.342700</td>\n",
       "      <td>0.636669</td>\n",
       "      <td>0.828085</td>\n",
       "      <td>0.745262</td>\n",
       "      <td>0.751477</td>\n",
       "      <td>0.742936</td>\n",
       "    </tr>\n",
       "    <tr>\n",
       "      <td>3</td>\n",
       "      <td>0.295600</td>\n",
       "      <td>0.740943</td>\n",
       "      <td>0.832766</td>\n",
       "      <td>0.754784</td>\n",
       "      <td>0.765714</td>\n",
       "      <td>0.747788</td>\n",
       "    </tr>\n",
       "  </tbody>\n",
       "</table><p>"
      ],
      "text/plain": [
       "<IPython.core.display.HTML object>"
      ]
     },
     "metadata": {},
     "output_type": "display_data"
    },
    {
     "data": {
      "text/plain": [
       "TrainOutput(global_step=3525, training_loss=0.49406523968311067, metrics={'train_runtime': 724.7804, 'train_samples_per_second': 38.904, 'train_steps_per_second': 4.864, 'total_flos': 5088362914621602.0, 'train_loss': 0.49406523968311067, 'epoch': 3.0})"
      ]
     },
     "execution_count": 12,
     "metadata": {},
     "output_type": "execute_result"
    }
   ],
   "source": [
    "# -----------------------------\n",
    "# 4️⃣ Training\n",
    "# -----------------------------\n",
    "training_args = TrainingArguments(\n",
    "    output_dir=\"../models/trained_model1\",\n",
    "    eval_strategy=\"epoch\",   # ✅ artık her epoch sonunda eval yapılacak\n",
    "    per_device_train_batch_size=8,\n",
    "    per_device_eval_batch_size=8,\n",
    "    num_train_epochs=3,\n",
    "    save_strategy=\"epoch\",\n",
    "    logging_steps=50,\n",
    "    learning_rate=5e-5,\n",
    "    weight_decay=0.01,\n",
    "    save_total_limit=2,\n",
    "    fp16=True\n",
    ")\n",
    "\n",
    "trainer = Trainer(\n",
    "    model=model,\n",
    "    args=training_args,\n",
    "    train_dataset=train_dataset,\n",
    "    eval_dataset=eval_dataset,   # ✅ eval dataset eklendi\n",
    "    tokenizer=tokenizer,\n",
    "    compute_metrics=compute_metrics\n",
    ")\n",
    "\n",
    "trainer.train()"
   ]
  },
  {
   "cell_type": "code",
   "execution_count": 13,
   "id": "97bd6b8b",
   "metadata": {},
   "outputs": [],
   "source": [
    "\n",
    "# -----------------------------\n",
    "# 5️⃣ PDF JSONL verilerini etiketleme\n",
    "# -----------------------------\n",
    "def predict_texts(model, tokenizer, texts):\n",
    "    model.eval()\n",
    "    predictions = []\n",
    "    for t in texts:\n",
    "        inputs = tokenizer(t['text'], return_tensors=\"pt\", truncation=True, max_length=512).to(device)\n",
    "        with torch.no_grad():\n",
    "            logits = model(**inputs).logits\n",
    "            probs = torch.softmax(logits, dim=-1)\n",
    "            label_id = torch.argmax(probs, dim=-1).item()\n",
    "            confidence = probs[0, label_id].item()\n",
    "        predictions.append({\n",
    "            \"text\": t['text'],\n",
    "            \"label\": id2label[label_id],\n",
    "            \"confidence\": confidence\n",
    "        })\n",
    "    return predictions\n",
    "\n",
    "pdf_predictions = predict_texts(model, tokenizer, pdf_data)\n"
   ]
  },
  {
   "cell_type": "code",
   "execution_count": 14,
   "id": "fbb2a348",
   "metadata": {},
   "outputs": [
    {
     "name": "stdout",
     "output_type": "stream",
     "text": [
      "PDF metinleri otomatik etiketlendi ve ../data/processed/pdf_dataset_labeled.jsonl dosyasına yazıldı.\n"
     ]
    }
   ],
   "source": [
    "# -----------------------------\n",
    "# 6️⃣ Tahminleri JSONL'ye yaz\n",
    "# -----------------------------\n",
    "output_file = \"../data/processed/pdf_dataset_labeled.jsonl\"\n",
    "with open(output_file, \"w\", encoding=\"utf-8\") as f:\n",
    "    for rec in pdf_predictions:\n",
    "        f.write(json.dumps(rec, ensure_ascii=False) + \"\\n\")\n",
    "\n",
    "print(f\"PDF metinleri otomatik etiketlendi ve {output_file} dosyasına yazıldı.\")\n"
   ]
  },
  {
   "cell_type": "markdown",
   "id": "d91e6c6d",
   "metadata": {},
   "source": [
    "# Mail + PDF verilerini birleştirip final modeli sıfırdan fine-tune et"
   ]
  },
  {
   "cell_type": "code",
   "execution_count": null,
   "id": "84cd7ea4",
   "metadata": {},
   "outputs": [],
   "source": [
    "#%pip install transformers datasets torch scikit-learn"
   ]
  },
  {
   "cell_type": "code",
   "execution_count": 15,
   "id": "7a3b712c",
   "metadata": {},
   "outputs": [
    {
     "name": "stdout",
     "output_type": "stream",
     "text": [
      "Collecting matplotlib\n",
      "  Downloading matplotlib-3.10.6-cp310-cp310-win_amd64.whl (8.1 MB)\n",
      "     ---------------------------------------- 0.0/8.1 MB ? eta -:--:--\n",
      "     ---------------------------------------- 0.0/8.1 MB ? eta -:--:--\n",
      "     ---------------------------------------- 0.1/8.1 MB 656.4 kB/s eta 0:00:13\n",
      "      --------------------------------------- 0.1/8.1 MB 819.2 kB/s eta 0:00:10\n",
      "     - -------------------------------------- 0.2/8.1 MB 1.3 MB/s eta 0:00:07\n",
      "     -- ------------------------------------- 0.5/8.1 MB 2.2 MB/s eta 0:00:04\n",
      "     --- ------------------------------------ 0.8/8.1 MB 2.9 MB/s eta 0:00:03\n",
      "     --- ------------------------------------ 0.8/8.1 MB 2.9 MB/s eta 0:00:03\n",
      "     ---- ----------------------------------- 0.8/8.1 MB 2.5 MB/s eta 0:00:03\n",
      "     ------ --------------------------------- 1.4/8.1 MB 3.5 MB/s eta 0:00:02\n",
      "     --------- ------------------------------ 1.9/8.1 MB 4.3 MB/s eta 0:00:02\n",
      "     ------------ --------------------------- 2.5/8.1 MB 5.1 MB/s eta 0:00:02\n",
      "     -------------- ------------------------- 2.9/8.1 MB 5.3 MB/s eta 0:00:01\n",
      "     ---------------- ----------------------- 3.3/8.1 MB 5.5 MB/s eta 0:00:01\n",
      "     ----------------- ---------------------- 3.6/8.1 MB 5.6 MB/s eta 0:00:01\n",
      "     ------------------- -------------------- 4.0/8.1 MB 5.8 MB/s eta 0:00:01\n",
      "     ------------------- -------------------- 4.0/8.1 MB 5.6 MB/s eta 0:00:01\n",
      "     ---------------------- ----------------- 4.5/8.1 MB 5.8 MB/s eta 0:00:01\n",
      "     ----------------------- ---------------- 4.7/8.1 MB 5.7 MB/s eta 0:00:01\n",
      "     ------------------------ --------------- 4.9/8.1 MB 5.6 MB/s eta 0:00:01\n",
      "     ------------------------- -------------- 5.2/8.1 MB 5.7 MB/s eta 0:00:01\n",
      "     --------------------------- ------------ 5.5/8.1 MB 5.7 MB/s eta 0:00:01\n",
      "     ---------------------------- ----------- 5.8/8.1 MB 5.7 MB/s eta 0:00:01\n",
      "     ------------------------------ --------- 6.1/8.1 MB 5.7 MB/s eta 0:00:01\n",
      "     ------------------------------- -------- 6.4/8.1 MB 5.7 MB/s eta 0:00:01\n",
      "     -------------------------------- ------- 6.7/8.1 MB 5.8 MB/s eta 0:00:01\n",
      "     ---------------------------------- ----- 7.0/8.1 MB 5.8 MB/s eta 0:00:01\n",
      "     ----------------------------------- ---- 7.2/8.1 MB 5.8 MB/s eta 0:00:01\n",
      "     ------------------------------------- -- 7.6/8.1 MB 5.8 MB/s eta 0:00:01\n",
      "     -------------------------------------- - 7.9/8.1 MB 5.8 MB/s eta 0:00:01\n",
      "     ---------------------------------------  8.1/8.1 MB 5.8 MB/s eta 0:00:01\n",
      "     ---------------------------------------  8.1/8.1 MB 5.8 MB/s eta 0:00:01\n",
      "     ---------------------------------------- 8.1/8.1 MB 5.5 MB/s eta 0:00:00\n",
      "Requirement already satisfied: packaging>=20.0 in d:\\email compliance classification\\new_env\\lib\\site-packages (from matplotlib) (25.0)\n",
      "Collecting cycler>=0.10\n",
      "  Using cached cycler-0.12.1-py3-none-any.whl (8.3 kB)\n",
      "Requirement already satisfied: pillow>=8 in d:\\email compliance classification\\new_env\\lib\\site-packages (from matplotlib) (11.0.0)\n",
      "Collecting pyparsing>=2.3.1\n",
      "  Downloading pyparsing-3.2.4-py3-none-any.whl (113 kB)\n",
      "     ---------------------------------------- 0.0/113.9 kB ? eta -:--:--\n",
      "     -------------------------------------- 113.9/113.9 kB 6.5 MB/s eta 0:00:00\n",
      "Collecting fonttools>=4.22.0\n",
      "  Downloading fonttools-4.59.2-cp310-cp310-win_amd64.whl (2.3 MB)\n",
      "     ---------------------------------------- 0.0/2.3 MB ? eta -:--:--\n",
      "     ----- ---------------------------------- 0.3/2.3 MB 9.3 MB/s eta 0:00:01\n",
      "     ---------- ----------------------------- 0.6/2.3 MB 7.6 MB/s eta 0:00:01\n",
      "     --------------- ------------------------ 0.9/2.3 MB 7.0 MB/s eta 0:00:01\n",
      "     -------------------- ------------------- 1.2/2.3 MB 6.8 MB/s eta 0:00:01\n",
      "     -------------------------- ------------- 1.5/2.3 MB 6.7 MB/s eta 0:00:01\n",
      "     ------------------------------- -------- 1.8/2.3 MB 6.6 MB/s eta 0:00:01\n",
      "     ------------------------------------ --- 2.1/2.3 MB 6.6 MB/s eta 0:00:01\n",
      "     ---------------------------------------  2.3/2.3 MB 6.5 MB/s eta 0:00:01\n",
      "     ---------------------------------------- 2.3/2.3 MB 6.0 MB/s eta 0:00:00\n",
      "Requirement already satisfied: python-dateutil>=2.7 in d:\\email compliance classification\\new_env\\lib\\site-packages (from matplotlib) (2.9.0.post0)\n",
      "Collecting contourpy>=1.0.1\n",
      "  Using cached contourpy-1.3.2-cp310-cp310-win_amd64.whl (221 kB)\n",
      "Requirement already satisfied: numpy>=1.23 in d:\\email compliance classification\\new_env\\lib\\site-packages (from matplotlib) (2.2.6)\n",
      "Collecting kiwisolver>=1.3.1\n",
      "  Using cached kiwisolver-1.4.9-cp310-cp310-win_amd64.whl (73 kB)\n",
      "Requirement already satisfied: six>=1.5 in d:\\email compliance classification\\new_env\\lib\\site-packages (from python-dateutil>=2.7->matplotlib) (1.17.0)\n",
      "Installing collected packages: pyparsing, kiwisolver, fonttools, cycler, contourpy, matplotlib\n",
      "Successfully installed contourpy-1.3.2 cycler-0.12.1 fonttools-4.59.2 kiwisolver-1.4.9 matplotlib-3.10.6 pyparsing-3.2.4\n",
      "Note: you may need to restart the kernel to use updated packages.\n"
     ]
    },
    {
     "name": "stderr",
     "output_type": "stream",
     "text": [
      "WARNING: Ignoring invalid distribution -orch (d:\\email compliance classification\\new_env\\lib\\site-packages)\n",
      "WARNING: Ignoring invalid distribution -orch (d:\\email compliance classification\\new_env\\lib\\site-packages)\n",
      "WARNING: Ignoring invalid distribution -orch (d:\\email compliance classification\\new_env\\lib\\site-packages)\n",
      "WARNING: Ignoring invalid distribution -orch (d:\\email compliance classification\\new_env\\lib\\site-packages)\n",
      "WARNING: Ignoring invalid distribution -orch (d:\\email compliance classification\\new_env\\lib\\site-packages)\n",
      "WARNING: Ignoring invalid distribution -orch (d:\\email compliance classification\\new_env\\lib\\site-packages)\n",
      "WARNING: Ignoring invalid distribution -orch (d:\\email compliance classification\\new_env\\lib\\site-packages)\n",
      "WARNING: Ignoring invalid distribution -orch (d:\\email compliance classification\\new_env\\lib\\site-packages)\n",
      "WARNING: Ignoring invalid distribution -orch (d:\\email compliance classification\\new_env\\lib\\site-packages)\n",
      "WARNING: Ignoring invalid distribution -orch (d:\\email compliance classification\\new_env\\lib\\site-packages)\n",
      "WARNING: Ignoring invalid distribution -orch (d:\\email compliance classification\\new_env\\lib\\site-packages)\n",
      "WARNING: Ignoring invalid distribution -orch (d:\\email compliance classification\\new_env\\lib\\site-packages)\n",
      "\n",
      "[notice] A new release of pip is available: 23.0.1 -> 25.2\n",
      "[notice] To update, run: python.exe -m pip install --upgrade pip\n"
     ]
    }
   ],
   "source": [
    "%pip install matplotlib"
   ]
  },
  {
   "cell_type": "code",
   "execution_count": 2,
   "id": "6b3e7cba",
   "metadata": {},
   "outputs": [
    {
     "name": "stdout",
     "output_type": "stream",
     "text": [
      "Collecting seabornNote: you may need to restart the kernel to use updated packages.\n",
      "\n",
      "  Downloading seaborn-0.13.2-py3-none-any.whl (294 kB)\n",
      "     ---------------------------------------- 0.0/294.9 kB ? eta -:--:--\n",
      "     -- ---------------------------------- 20.5/294.9 kB 330.3 kB/s eta 0:00:01\n",
      "     ----- ------------------------------- 41.0/294.9 kB 393.8 kB/s eta 0:00:01\n",
      "     ----------- ------------------------- 92.2/294.9 kB 655.4 kB/s eta 0:00:01\n",
      "     ----------------------------- -------- 225.3/294.9 kB 1.3 MB/s eta 0:00:01\n",
      "     -------------------------------------- 294.9/294.9 kB 1.3 MB/s eta 0:00:00\n",
      "Requirement already satisfied: matplotlib!=3.6.1,>=3.4 in d:\\email compliance classification\\new_env\\lib\\site-packages (from seaborn) (3.10.6)\n",
      "Requirement already satisfied: pandas>=1.2 in d:\\email compliance classification\\new_env\\lib\\site-packages (from seaborn) (2.3.2)\n",
      "Requirement already satisfied: numpy!=1.24.0,>=1.20 in d:\\email compliance classification\\new_env\\lib\\site-packages (from seaborn) (2.2.6)\n",
      "Requirement already satisfied: kiwisolver>=1.3.1 in d:\\email compliance classification\\new_env\\lib\\site-packages (from matplotlib!=3.6.1,>=3.4->seaborn) (1.4.9)\n",
      "Requirement already satisfied: python-dateutil>=2.7 in d:\\email compliance classification\\new_env\\lib\\site-packages (from matplotlib!=3.6.1,>=3.4->seaborn) (2.9.0.post0)\n",
      "Requirement already satisfied: cycler>=0.10 in d:\\email compliance classification\\new_env\\lib\\site-packages (from matplotlib!=3.6.1,>=3.4->seaborn) (0.12.1)\n",
      "Requirement already satisfied: fonttools>=4.22.0 in d:\\email compliance classification\\new_env\\lib\\site-packages (from matplotlib!=3.6.1,>=3.4->seaborn) (4.59.2)\n",
      "Requirement already satisfied: packaging>=20.0 in d:\\email compliance classification\\new_env\\lib\\site-packages (from matplotlib!=3.6.1,>=3.4->seaborn) (25.0)\n",
      "Requirement already satisfied: pyparsing>=2.3.1 in d:\\email compliance classification\\new_env\\lib\\site-packages (from matplotlib!=3.6.1,>=3.4->seaborn) (3.2.4)\n",
      "Requirement already satisfied: pillow>=8 in d:\\email compliance classification\\new_env\\lib\\site-packages (from matplotlib!=3.6.1,>=3.4->seaborn) (11.0.0)\n",
      "Requirement already satisfied: contourpy>=1.0.1 in d:\\email compliance classification\\new_env\\lib\\site-packages (from matplotlib!=3.6.1,>=3.4->seaborn) (1.3.2)\n",
      "Requirement already satisfied: tzdata>=2022.7 in d:\\email compliance classification\\new_env\\lib\\site-packages (from pandas>=1.2->seaborn) (2025.2)\n",
      "Requirement already satisfied: pytz>=2020.1 in d:\\email compliance classification\\new_env\\lib\\site-packages (from pandas>=1.2->seaborn) (2025.2)\n",
      "Requirement already satisfied: six>=1.5 in d:\\email compliance classification\\new_env\\lib\\site-packages (from python-dateutil>=2.7->matplotlib!=3.6.1,>=3.4->seaborn) (1.17.0)\n",
      "Installing collected packages: seaborn\n",
      "Successfully installed seaborn-0.13.2\n"
     ]
    },
    {
     "name": "stderr",
     "output_type": "stream",
     "text": [
      "WARNING: Ignoring invalid distribution -orch (d:\\email compliance classification\\new_env\\lib\\site-packages)\n",
      "WARNING: Ignoring invalid distribution -orch (d:\\email compliance classification\\new_env\\lib\\site-packages)\n",
      "WARNING: Ignoring invalid distribution -orch (d:\\email compliance classification\\new_env\\lib\\site-packages)\n",
      "WARNING: Ignoring invalid distribution -orch (d:\\email compliance classification\\new_env\\lib\\site-packages)\n",
      "WARNING: Ignoring invalid distribution -orch (d:\\email compliance classification\\new_env\\lib\\site-packages)\n",
      "WARNING: Ignoring invalid distribution -orch (d:\\email compliance classification\\new_env\\lib\\site-packages)\n",
      "WARNING: Ignoring invalid distribution -orch (d:\\email compliance classification\\new_env\\lib\\site-packages)\n",
      "\n",
      "[notice] A new release of pip is available: 23.0.1 -> 25.2\n",
      "[notice] To update, run: python.exe -m pip install --upgrade pip\n"
     ]
    }
   ],
   "source": [
    "%pip install seaborn"
   ]
  },
  {
   "cell_type": "code",
   "execution_count": 8,
   "id": "fb282ebd",
   "metadata": {},
   "outputs": [],
   "source": [
    "import json\n",
    "import torch\n",
    "import numpy as np\n",
    "from datasets import Dataset\n",
    "from transformers import AutoTokenizer, AutoModelForSequenceClassification, Trainer, TrainingArguments\n",
    "from sklearn.metrics import f1_score, precision_score, recall_score, confusion_matrix, accuracy_score\n",
    "import matplotlib.pyplot as plt\n",
    "import seaborn as sns\n",
    "import pandas as pd"
   ]
  },
  {
   "cell_type": "code",
   "execution_count": 9,
   "id": "512062be",
   "metadata": {},
   "outputs": [
    {
     "name": "stdout",
     "output_type": "stream",
     "text": [
      "len(data) for ../data/processed/dataset_formatted.jsonl: 11749\n",
      "len(data) for ../data/processed/pdf_dataset_labeled.jsonl: 100\n",
      "Toplam örnek sayısı: 11849\n"
     ]
    }
   ],
   "source": [
    "# -----------------------------\n",
    "# 1️⃣ Veri yükleme\n",
    "# -----------------------------\n",
    "def load_jsonl(file_path):\n",
    "    data = []\n",
    "    with open(file_path, \"r\", encoding=\"utf-8\") as f:\n",
    "        for line in f:\n",
    "            data.append(json.loads(line))\n",
    "        print(f\"len(data) for {file_path}: {len(data)}\")\n",
    "    return data\n",
    "\n",
    "dataset_formatted_jsonl_file = \"../data/processed/dataset_formatted.jsonl\"          # Etiketli mail verisi\n",
    "pdf_dataset_labeled_jsonl_file   = \"../data/processed/pdf_dataset_labeled.jsonl\"      # PDF verileri (etiketsiz)\n",
    "\n",
    "dataset_formatted = load_jsonl(dataset_formatted_jsonl_file)\n",
    "pdf_labeled = load_jsonl(pdf_dataset_labeled_jsonl_file)\n",
    "\n",
    "# PDF verilerinde sadece text + label tut\n",
    "pdf_labeled_clean = [{\"text\": r[\"text\"], \"label\": r[\"label\"]} for r in pdf_labeled]\n",
    "\n",
    "# Datasetleri birleştir\n",
    "combined_data = dataset_formatted + pdf_labeled_clean\n",
    "df = pd.DataFrame(combined_data)\n",
    "print(\"Toplam örnek sayısı:\", len(df))"
   ]
  },
  {
   "cell_type": "code",
   "execution_count": null,
   "id": "a372421a",
   "metadata": {},
   "outputs": [],
   "source": [
    "# combined_data.jsonl dosyasını oluştur\n",
    "with open(\"../data/processed/combined_data.jsonl\", \"w\", encoding=\"utf-8\") as f:\n",
    "    for item in combined_data:\n",
    "        f.write(json.dumps(item, ensure_ascii=False) + \"\\n\")"
   ]
  },
  {
   "cell_type": "code",
   "execution_count": 10,
   "id": "491f2ac7",
   "metadata": {},
   "outputs": [
    {
     "name": "stdout",
     "output_type": "stream",
     "text": [
      "Label sayısı: 9\n",
      "Label2ID: {'abuse_of_dominance': 0, 'anti_competitive_merger': 1, 'bid_rigging': 2, 'clean': 3, 'customer_sharing': 4, 'exclusive_contracts': 5, 'market_allocation': 6, 'other_competition_violation': 7, 'price_fixing': 8}\n"
     ]
    }
   ],
   "source": [
    "# -----------------------------\n",
    "# 2️⃣ Label mapping\n",
    "# -----------------------------\n",
    "labels = sorted(list(set([item[\"label\"] for item in combined_data])))\n",
    "label2id = {label: i for i, label in enumerate(labels)}\n",
    "id2label = {i: label for label, i in label2id.items()}\n",
    "\n",
    "print(\"Label sayısı:\", len(labels))\n",
    "print(\"Label2ID:\", label2id)"
   ]
  },
  {
   "cell_type": "code",
   "execution_count": 11,
   "id": "f959acef",
   "metadata": {},
   "outputs": [],
   "source": [
    "# -----------------------------\n",
    "# 3️⃣ Train / Val / Test split\n",
    "# -----------------------------\n",
    "\n",
    "# Train/val/test split (70/15/15) stratified\n",
    "from sklearn.model_selection import train_test_split\n",
    "\n",
    "texts  = [r['text'] for r in combined_data]\n",
    "y      = [r['label'] for r in combined_data]\n",
    "\n",
    "train_texts, temp_texts, train_labels, temp_labels = train_test_split(\n",
    "    texts, y, test_size=0.3, stratify=y, random_state=42\n",
    ")\n",
    "val_texts, test_texts, val_labels, test_labels = train_test_split(\n",
    "    temp_texts, temp_labels, test_size=0.5, stratify=temp_labels, random_state=42\n",
    ")\n"
   ]
  },
  {
   "cell_type": "markdown",
   "id": "0316e60e",
   "metadata": {},
   "source": [
    "`train_test_split` fonksiyonu varsayılan olarak **shuffle=True** ile çalışır.\n",
    "Yani:\n",
    "\n",
    "* Önce veriyi **karıştırır (random shuffle)**\n",
    "* Sonra belirtilen oranlarda (70/15/15 gibi) parçalar.\n",
    "* `stratify=y` verdiğin için, karıştırmayı yaparken her sınıfın dağılımını da korur.\n",
    "\n",
    "Ayrıca `random_state=42` verdiğimiz için bu karıştırma **her çalıştırmada aynı şekilde** yapılır (deterministic).\n",
    "\n",
    "👉 Eğer verinin sırası bozulmadan bölünmesini isteseydik aşağıdaki gibi tanımlardık:\n",
    "\n",
    "```python\n",
    "train_test_split(..., shuffle=False)\n",
    "```\n"
   ]
  },
  {
   "cell_type": "code",
   "execution_count": 12,
   "id": "f65891fc",
   "metadata": {},
   "outputs": [
    {
     "name": "stderr",
     "output_type": "stream",
     "text": [
      "Map: 100%|██████████| 8294/8294 [00:04<00:00, 1833.25 examples/s]\n",
      "Map: 100%|██████████| 1777/1777 [00:00<00:00, 4176.57 examples/s]\n",
      "Map: 100%|██████████| 1778/1778 [00:00<00:00, 2369.97 examples/s]\n"
     ]
    }
   ],
   "source": [
    "# -----------------------------\n",
    "# 4️⃣ Tokenizer & Dataset hazırlığı\n",
    "# -----------------------------\n",
    "model_name = \"dbmdz/bert-base-turkish-cased\"\n",
    "tokenizer = AutoTokenizer.from_pretrained(model_name)\n",
    "\n",
    "def tokenize(batch):\n",
    "    return tokenizer(batch[\"text\"], padding=True, truncation=True, max_length=512)\n",
    "\n",
    "def make_dataset(texts, labels_raw):\n",
    "    data = [{\"text\": t, \"label\": label2id[l]} for t, l in zip(texts, labels_raw)]\n",
    "    ds = Dataset.from_list(data)\n",
    "    ds = ds.map(tokenize, batched=True)\n",
    "    return ds\n",
    "\n",
    "train_ds = make_dataset(train_texts, train_labels)\n",
    "val_ds   = make_dataset(val_texts, val_labels)\n",
    "test_ds  = make_dataset(test_texts, test_labels)\n",
    "\n"
   ]
  },
  {
   "cell_type": "code",
   "execution_count": 13,
   "id": "2c8b066a",
   "metadata": {},
   "outputs": [
    {
     "name": "stderr",
     "output_type": "stream",
     "text": [
      "Some weights of BertForSequenceClassification were not initialized from the model checkpoint at dbmdz/bert-base-turkish-cased and are newly initialized: ['classifier.bias', 'classifier.weight']\n",
      "You should probably TRAIN this model on a down-stream task to be able to use it for predictions and inference.\n"
     ]
    },
    {
     "name": "stdout",
     "output_type": "stream",
     "text": [
      "Model cuda üzerinde eğitilecek.\n"
     ]
    }
   ],
   "source": [
    "# -----------------------------\n",
    "# 5️⃣ Model\n",
    "# -----------------------------\n",
    "\n",
    "# Final model\n",
    "model_final = AutoModelForSequenceClassification.from_pretrained(\n",
    "    model_name,\n",
    "    num_labels=len(labels),\n",
    "    id2label=id2label,\n",
    "    label2id=label2id\n",
    ")\n",
    "\n",
    "device = torch.device(\"cuda\" if torch.cuda.is_available() else \"cpu\")\n",
    "model_final.to(device)\n",
    "print(f\"Model {device} üzerinde eğitilecek.\")"
   ]
  },
  {
   "cell_type": "code",
   "execution_count": 14,
   "id": "32277779",
   "metadata": {},
   "outputs": [
    {
     "name": "stderr",
     "output_type": "stream",
     "text": [
      "C:\\Users\\tokel\\AppData\\Local\\Temp\\ipykernel_20116\\1431058204.py:27: FutureWarning: `tokenizer` is deprecated and will be removed in version 5.0.0 for `Trainer.__init__`. Use `processing_class` instead.\n",
      "  trainer_final = Trainer(\n"
     ]
    },
    {
     "data": {
      "text/html": [
       "\n",
       "    <div>\n",
       "      \n",
       "      <progress value='3111' max='3111' style='width:300px; height:20px; vertical-align: middle;'></progress>\n",
       "      [3111/3111 16:53, Epoch 3/3]\n",
       "    </div>\n",
       "    <table border=\"1\" class=\"dataframe\">\n",
       "  <thead>\n",
       " <tr style=\"text-align: left;\">\n",
       "      <th>Epoch</th>\n",
       "      <th>Training Loss</th>\n",
       "      <th>Validation Loss</th>\n",
       "      <th>Accuracy</th>\n",
       "      <th>Macro F1</th>\n",
       "      <th>Precision</th>\n",
       "      <th>Recall</th>\n",
       "    </tr>\n",
       "  </thead>\n",
       "  <tbody>\n",
       "    <tr>\n",
       "      <td>1</td>\n",
       "      <td>0.676900</td>\n",
       "      <td>0.599283</td>\n",
       "      <td>0.805290</td>\n",
       "      <td>0.724835</td>\n",
       "      <td>0.742677</td>\n",
       "      <td>0.727255</td>\n",
       "    </tr>\n",
       "    <tr>\n",
       "      <td>2</td>\n",
       "      <td>0.522900</td>\n",
       "      <td>0.590339</td>\n",
       "      <td>0.832302</td>\n",
       "      <td>0.762124</td>\n",
       "      <td>0.771922</td>\n",
       "      <td>0.756924</td>\n",
       "    </tr>\n",
       "    <tr>\n",
       "      <td>3</td>\n",
       "      <td>0.201100</td>\n",
       "      <td>0.721873</td>\n",
       "      <td>0.837366</td>\n",
       "      <td>0.771787</td>\n",
       "      <td>0.780003</td>\n",
       "      <td>0.766974</td>\n",
       "    </tr>\n",
       "  </tbody>\n",
       "</table><p>"
      ],
      "text/plain": [
       "<IPython.core.display.HTML object>"
      ]
     },
     "metadata": {},
     "output_type": "display_data"
    },
    {
     "data": {
      "text/plain": [
       "TrainOutput(global_step=3111, training_loss=0.5115319127555217, metrics={'train_runtime': 1023.7689, 'train_samples_per_second': 24.304, 'train_steps_per_second': 3.039, 'total_flos': 6547140742551552.0, 'train_loss': 0.5115319127555217, 'epoch': 3.0})"
      ]
     },
     "execution_count": 14,
     "metadata": {},
     "output_type": "execute_result"
    }
   ],
   "source": [
    "# -----------------------------\n",
    "# 6️⃣ TrainingArguments + Trainer\n",
    "# -----------------------------\n",
    "training_args_final = TrainingArguments(\n",
    "    output_dir=\"../models/trained_model2\",\n",
    "    eval_strategy=\"epoch\",\n",
    "    per_device_train_batch_size=8,\n",
    "    per_device_eval_batch_size=8,\n",
    "    num_train_epochs=3,\n",
    "    logging_steps=50,\n",
    "    learning_rate=5e-5,\n",
    "    weight_decay=0.01,\n",
    "    save_total_limit=2,\n",
    "    fp16=True\n",
    ")\n",
    "\n",
    "def compute_metrics_final(eval_pred):\n",
    "    logits, labels_true = eval_pred\n",
    "    preds = np.argmax(logits, axis=-1)\n",
    "    return {\n",
    "        \"accuracy\": accuracy_score(labels_true, preds),\n",
    "        \"macro_f1\": f1_score(labels_true, preds, average=\"macro\"),\n",
    "        \"precision\": precision_score(labels_true, preds, average=\"macro\"),\n",
    "        \"recall\": recall_score(labels_true, preds, average=\"macro\")\n",
    "    }\n",
    "\n",
    "trainer_final = Trainer(\n",
    "    model=model_final,\n",
    "    args=training_args_final,\n",
    "    train_dataset=train_ds,\n",
    "    eval_dataset=val_ds,\n",
    "    tokenizer=tokenizer,\n",
    "    compute_metrics=compute_metrics_final\n",
    ")\n",
    "\n",
    "trainer_final.train()"
   ]
  },
  {
   "cell_type": "code",
   "execution_count": 15,
   "id": "780dfab0",
   "metadata": {},
   "outputs": [
    {
     "data": {
      "text/html": [],
      "text/plain": [
       "<IPython.core.display.HTML object>"
      ]
     },
     "metadata": {},
     "output_type": "display_data"
    },
    {
     "data": {
      "image/png": "[encoded data removed]",
      "text/plain": [
       "<Figure size 1000x800 with 2 Axes>"
      ]
     },
     "metadata": {},
     "output_type": "display_data"
    }
   ],
   "source": [
    "# -----------------------------\n",
    "# 7️⃣ Test setinde değerlendirme\n",
    "# -----------------------------\n",
    "test_logits = trainer_final.predict(test_ds).predictions\n",
    "test_preds  = np.argmax(test_logits, axis=-1)\n",
    "test_true   = [label2id[l] for l in test_labels]\n",
    "\n",
    "# Confusion matrix\n",
    "cm = confusion_matrix(test_true, test_preds)\n",
    "plt.figure(figsize=(10,8))\n",
    "sns.heatmap(cm, annot=True, fmt=\"d\", xticklabels=labels, yticklabels=labels, cmap=\"Blues\")\n",
    "plt.xlabel(\"Predicted\")\n",
    "plt.ylabel(\"True\")\n",
    "plt.title(\"Confusion Matrix - Final Model\")\n",
    "plt.show()"
   ]
  },
  {
   "cell_type": "markdown",
   "id": "908ffbf7",
   "metadata": {},
   "source": [
    "# Brief analysis of class imbalance and potential data leakage risks"
   ]
  },
  {
   "cell_type": "markdown",
   "id": "62ce98ea",
   "metadata": {},
   "source": []
  },
  {
   "cell_type": "markdown",
   "id": "3a2b8482",
   "metadata": {},
   "source": [
    "# Backend-Ready Simple"
   ]
  },
  {
   "cell_type": "markdown",
   "id": "d1374442",
   "metadata": {},
   "source": [
    "Girdi: \n",
    "\n",
    "    e-posta subject ve body (veya sadece text)\n",
    "\n",
    "Çıktı:\n",
    "\n",
    "    label → modelin tahmin ettiği sınıf\n",
    "\n",
    "    confidence → modelin tahmine olan güveni"
   ]
  },
  {
   "cell_type": "code",
   "execution_count": null,
   "id": "4a6e253a",
   "metadata": {},
   "outputs": [],
   "source": [
    "def predict_email(subject, body, model, tokenizer):\n",
    "    \"\"\"\n",
    "    E-posta subject ve body'sini sınıflandırır\n",
    "    \n",
    "    Args:\n",
    "        subject (str): E-posta konusu\n",
    "        body (str): E-posta içeriği\n",
    "        model: Fine tune edilmiş model\n",
    "        tokenizer: Model ile uyumlu tokenizer\n",
    "    \n",
    "    Returns:\n",
    "        dict: label ve confidence içeren sözlük\n",
    "    \"\"\"\n",
    "    text = subject + \" \" + body\n",
    "    \n",
    "    # Tokenize et ve modelin bulunduğu device'a gönder\n",
    "    inputs = tokenizer(text, return_tensors=\"pt\", truncation=True, max_length=512)\n",
    "    inputs = {k: v.to(model.device) for k, v in inputs.items()}\n",
    "    \n",
    "    model.eval()  # Evaluation moduna al\n",
    "    with torch.no_grad():\n",
    "        logits = model(**inputs).logits\n",
    "        probs = torch.softmax(logits, dim=-1)\n",
    "        label_id = torch.argmax(probs, dim=-1).item()\n",
    "        confidence = probs[0, label_id].item()\n",
    "    \n",
    "    return {\"label\": id2label[label_id], \"confidence\": confidence}\n",
    "\n"
   ]
  },
  {
   "cell_type": "code",
   "execution_count": 18,
   "id": "cdbc5beb",
   "metadata": {},
   "outputs": [
    {
     "name": "stdout",
     "output_type": "stream",
     "text": [
      "Model cuda üzerinde yüklendi ve hazır.\n",
      "Tahmin: price_fixing\n",
      "Güven skoru: 0.9952\n"
     ]
    }
   ],
   "source": [
    "# Fine tune edilmiş modeli yükle (en son checkpoint'ı kullan)\n",
    "model_path = \"../models/trained_model2/checkpoint-3111\"  # En son checkpoint\n",
    "model_final = AutoModelForSequenceClassification.from_pretrained(model_path)\n",
    "tokenizer = AutoTokenizer.from_pretrained(model_path)\n",
    "\n",
    "# Modeli GPU'ya taşı\n",
    "device = torch.device(\"cuda\" if torch.cuda.is_available() else \"cpu\")\n",
    "model_final.to(device)\n",
    "print(f\"Model {device} üzerinde yüklendi ve hazır.\")\n",
    "\n",
    "# Test etmek için örnek tahmin\n",
    "result = predict_email(\"Fiyatlandırma Üzerine Görüşme Talebi\", \"Merhaba Emre Bey, Yarın fiyatlandırma üzerine kısa bir toplantı yapmayı öneriyorum. Uygun olduğunuz saatleri paylaşmanızı rica eder, İyi çalışmalar dilerim. Saygılarımla, Elif Beyza Tok\", model_final, tokenizer)\n",
    "print(f\"Tahmin: {result['label']}\")\n",
    "print(f\"Güven skoru: {result['confidence']:.4f}\")"
   ]
  }
 ],
 "metadata": {
  "kernelspec": {
   "display_name": "new_env",
   "language": "python",
   "name": "python3"
  },
  "language_info": {
   "codemirror_mode": {
    "name": "ipython",
    "version": 3
   },
   "file_extension": ".py",
   "mimetype": "text/x-python",
   "name": "python",
   "nbconvert_exporter": "python",
   "pygments_lexer": "ipython3",
   "version": "3.10.16"
  }
 },
 "nbformat": 4,
 "nbformat_minor": 5
}
